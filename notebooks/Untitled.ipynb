{
 "cells": [
  {
   "cell_type": "code",
   "execution_count": 2,
   "id": "e66bb0f8-bcf3-4fc0-8cd0-58e3bc07fdd8",
   "metadata": {},
   "outputs": [],
   "source": [
    "from pymongo import MongoClient"
   ]
  },
  {
   "cell_type": "markdown",
   "id": "f0319612-0522-4676-9b4b-b78c20d53058",
   "metadata": {
    "tags": []
   },
   "source": [
    "# Conectar a instância do MongoDB implantado na AWS"
   ]
  },
  {
   "cell_type": "code",
   "execution_count": 3,
   "id": "94136d6b-4bf6-49b9-9259-35b8a7578add",
   "metadata": {},
   "outputs": [
    {
     "name": "stdout",
     "output_type": "stream",
     "text": [
      "['admin', 'config', 'local', 'trabalho']\n"
     ]
    }
   ],
   "source": [
    "client = MongoClient('50.17.178.249', 27017)\n",
    "dbs = client.list_database_names()\n",
    "print(dbs)"
   ]
  },
  {
   "cell_type": "markdown",
   "id": "470b0f6a-642f-4bc8-93d3-daa8e3376729",
   "metadata": {},
   "source": [
    "# Criando uma nova referência para o banco de dados desejado"
   ]
  },
  {
   "cell_type": "code",
   "execution_count": 4,
   "id": "7b9a6b8e-dbe0-458e-bc15-4a40751fe211",
   "metadata": {},
   "outputs": [
    {
     "name": "stdout",
     "output_type": "stream",
     "text": [
      "Database(MongoClient(host=['50.17.178.249:27017'], document_class=dict, tz_aware=False, connect=True), 'trabalho')\n"
     ]
    }
   ],
   "source": [
    "db = client.trabalho\n",
    "print(db)"
   ]
  },
  {
   "cell_type": "code",
   "execution_count": 9,
   "id": "edf3f3b7-d2af-44c9-bccf-61be37d2fda7",
   "metadata": {},
   "outputs": [
    {
     "name": "stdout",
     "output_type": "stream",
     "text": [
      "['Membership', 'Customer', 'Subscription', 'Payment']\n"
     ]
    }
   ],
   "source": [
    "collections = db.list_collection_names()\n",
    "print(collections)"
   ]
  }
 ],
 "metadata": {
  "kernelspec": {
   "display_name": "Python 3 (ipykernel)",
   "language": "python",
   "name": "python3"
  },
  "language_info": {
   "codemirror_mode": {
    "name": "ipython",
    "version": 3
   },
   "file_extension": ".py",
   "mimetype": "text/x-python",
   "name": "python",
   "nbconvert_exporter": "python",
   "pygments_lexer": "ipython3",
   "version": "3.9.7"
  }
 },
 "nbformat": 4,
 "nbformat_minor": 5
}
