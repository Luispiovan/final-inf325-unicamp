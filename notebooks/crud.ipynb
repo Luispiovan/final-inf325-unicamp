{
 "cells": [
  {
   "cell_type": "code",
   "execution_count": 6,
   "id": "10724c2c-3747-4367-9f5f-ed424991890d",
   "metadata": {
    "tags": []
   },
   "outputs": [],
   "source": [
    "from bson.objectid import ObjectId\n",
    "from pymongo import MongoClient\n",
    "from pprintpp import pprint"
   ]
  },
  {
   "cell_type": "markdown",
   "id": "285d5987-5bc4-4716-93e4-9dc4abeb55f5",
   "metadata": {
    "tags": []
   },
   "source": [
    "# Conectar a instância do MongoDB implantado na AWS"
   ]
  },
  {
   "cell_type": "code",
   "execution_count": 13,
   "id": "94757a59-62f8-45c7-b1db-77a7247b6078",
   "metadata": {},
   "outputs": [],
   "source": [
    "client = MongoClient('52.87.206.228', 27017)"
   ]
  },
  {
   "cell_type": "markdown",
   "id": "d48738a3-5aef-4f95-bb28-176e8e2aa46d",
   "metadata": {},
   "source": [
    "# Criando uma nova referência para o banco de dados desejado"
   ]
  },
  {
   "cell_type": "code",
   "execution_count": 22,
   "id": "575f328e-f037-46a9-894f-f32f06446c0e",
   "metadata": {},
   "outputs": [],
   "source": [
    "db = client.trabalho\n",
    "print(f\"Database selecionado: {db}\")\n",
    "collections = db.list_collection_names()\n",
    "print(f\"Coleções disponíveis: {collections}\")"
   ]
  },
  {
   "cell_type": "markdown",
   "id": "40066e64-b190-45b3-acbc-ec419173ed05",
   "metadata": {
    "tags": []
   },
   "source": [
    "# Products"
   ]
  },
  {
   "cell_type": "markdown",
   "id": "2f272897-ef0f-4b4a-8059-694b60a870e7",
   "metadata": {},
   "source": [
    "### Create"
   ]
  },
  {
   "cell_type": "code",
   "execution_count": null,
   "id": "a050cd75-08fe-4cc6-9023-319e486d17d0",
   "metadata": {},
   "outputs": [],
   "source": [
    "product_docs = []\n",
    "db.Product.insert_many(product_docs)"
   ]
  },
  {
   "cell_type": "markdown",
   "id": "811af74d-5964-4e27-8f64-56974e9cb753",
   "metadata": {
    "tags": []
   },
   "source": [
    "### List all"
   ]
  },
  {
   "cell_type": "code",
   "execution_count": 8,
   "id": "f5552609-ef48-4bd5-abd2-01ab5d3bce21",
   "metadata": {},
   "outputs": [],
   "source": [
    "products = db.Product.find().limit(10)\n",
    "pprint(list(products))"
   ]
  },
  {
   "cell_type": "markdown",
   "id": "432b9e48-0acc-4af7-ad19-df286e5d8ec3",
   "metadata": {
    "tags": []
   },
   "source": [
    "### Update by object id"
   ]
  },
  {
   "cell_type": "code",
   "execution_count": null,
   "id": "d4b2f649-77dc-450c-9f8a-c0bd88af4f59",
   "metadata": {
    "tags": []
   },
   "outputs": [],
   "source": [
    "db.Product.update_one(\n",
    "    { \"_id\": ObjectId(\"\") },\n",
    "    {\n",
    "        \"$set\": {\n",
    "            \"field\": \"value\"\n",
    "        }\n",
    "    },\n",
    "    upsert=False,\n",
    "    multi=False\n",
    ")"
   ]
  },
  {
   "cell_type": "markdown",
   "id": "83cf4398-bd60-4fc6-af85-25b0a92fda9f",
   "metadata": {},
   "source": [
    "### Delete by object id"
   ]
  },
  {
   "cell_type": "code",
   "execution_count": 27,
   "id": "45b9adc3-428f-4b72-b8f6-f1e7e66615c4",
   "metadata": {},
   "outputs": [],
   "source": [
    "db.Product.delete_one({ \"_id\": ObjectId(\"\") })"
   ]
  },
  {
   "cell_type": "markdown",
   "id": "14ff70b0-7d46-4c96-ad93-fbd276cf983a",
   "metadata": {},
   "source": [
    "# Memberships"
   ]
  },
  {
   "cell_type": "markdown",
   "id": "9cd8f27c-b9f5-4098-8959-3b490362136f",
   "metadata": {},
   "source": [
    "### Create"
   ]
  },
  {
   "cell_type": "code",
   "execution_count": null,
   "id": "50d5150f-3447-43c3-9115-ddb3d59041e3",
   "metadata": {},
   "outputs": [],
   "source": [
    "membership_docs = []\n",
    "db.Membership.insert_many(membership_docs)"
   ]
  },
  {
   "cell_type": "markdown",
   "id": "28f04cfd-a4eb-4883-a9f5-6d26b2181263",
   "metadata": {
    "tags": []
   },
   "source": [
    "### List all"
   ]
  },
  {
   "cell_type": "code",
   "execution_count": 9,
   "id": "e9b41aa8-4d48-41a7-bab6-8f4f83dcc624",
   "metadata": {},
   "outputs": [],
   "source": [
    "memberships = db.Membership.find().limit(10)\n",
    "pprint(list(memberships))"
   ]
  },
  {
   "cell_type": "markdown",
   "id": "397c14e6-f5f7-4998-b3fa-31a77506fa87",
   "metadata": {},
   "source": [
    "# Customers"
   ]
  },
  {
   "cell_type": "markdown",
   "id": "3b215467-02af-4175-a90d-cd58aa50493a",
   "metadata": {},
   "source": [
    "### Create"
   ]
  },
  {
   "cell_type": "code",
   "execution_count": null,
   "id": "2c425f49-9fa3-4523-95ae-bba2c7ef1591",
   "metadata": {},
   "outputs": [],
   "source": [
    "costumer_docs = []\n",
    "db.Customer.insert_many(costumer_docs)"
   ]
  },
  {
   "cell_type": "markdown",
   "id": "072ffe30-5999-496a-b2c8-9b8af779cce3",
   "metadata": {
    "tags": []
   },
   "source": [
    "### List all"
   ]
  },
  {
   "cell_type": "code",
   "execution_count": 39,
   "id": "32f7ecc5-e1be-4608-80a0-effc585d1b36",
   "metadata": {},
   "outputs": [],
   "source": [
    "costumers = db.C.find().limit(10)\n",
    "pprint(list(costumers))"
   ]
  },
  {
   "cell_type": "markdown",
   "id": "2cdc6d7b-d002-459f-b24e-fe6d0fb996e9",
   "metadata": {},
   "source": [
    "# Subscription"
   ]
  },
  {
   "cell_type": "markdown",
   "id": "7eb0e841-c801-4f7c-9467-3f4d360fca01",
   "metadata": {},
   "source": [
    "### Create"
   ]
  },
  {
   "cell_type": "code",
   "execution_count": null,
   "id": "58f8f745-5454-4f84-a4d0-e1dc8c170ab4",
   "metadata": {},
   "outputs": [],
   "source": [
    "sub_docs = []\n",
    "db.Subscription.insert_many(sub_docs)"
   ]
  },
  {
   "cell_type": "markdown",
   "id": "e32a97b7-101f-466b-9104-2d2714f1ecba",
   "metadata": {
    "tags": []
   },
   "source": [
    "### List all"
   ]
  },
  {
   "cell_type": "code",
   "execution_count": 11,
   "id": "a139ebcf-f13f-4aea-a0e0-564a1a63f4d1",
   "metadata": {},
   "outputs": [],
   "source": [
    "subs = db.Subscription.find().limit(10)\n",
    "pprint(list(subs))"
   ]
  },
  {
   "cell_type": "markdown",
   "id": "91e26153-c153-41e2-8631-87230c7cc135",
   "metadata": {},
   "source": [
    "# Payment"
   ]
  },
  {
   "cell_type": "markdown",
   "id": "c44ef02e-0590-4b37-a549-61675ede0ed2",
   "metadata": {},
   "source": [
    "### Create"
   ]
  },
  {
   "cell_type": "code",
   "execution_count": null,
   "id": "4ca7bee5-6e02-49f5-bc0b-0f5208c09c9d",
   "metadata": {},
   "outputs": [],
   "source": [
    "payment_docs = []\n",
    "db.Payment.insert_many(payment_docs)"
   ]
  },
  {
   "cell_type": "markdown",
   "id": "a9f28b1e-0e0a-40a5-9f4e-f9137065f25d",
   "metadata": {
    "tags": []
   },
   "source": [
    "### List all"
   ]
  },
  {
   "cell_type": "code",
   "execution_count": 12,
   "id": "8ad8a784-c9c6-4fb3-908f-8ad9272417b9",
   "metadata": {},
   "outputs": [],
   "source": [
    "payments = db.Payment.find().limit(10)\n",
    "pprint(list(payments))"
   ]
  }
 ],
 "metadata": {
  "kernelspec": {
   "display_name": "Python 3 (ipykernel)",
   "language": "python",
   "name": "python3"
  },
  "language_info": {
   "codemirror_mode": {
    "name": "ipython",
    "version": 3
   },
   "file_extension": ".py",
   "mimetype": "text/x-python",
   "name": "python",
   "nbconvert_exporter": "python",
   "pygments_lexer": "ipython3",
   "version": "3.9.7"
  }
 },
 "nbformat": 4,
 "nbformat_minor": 5
}
